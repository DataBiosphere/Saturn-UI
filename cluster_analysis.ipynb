{
 "cells": [
  {
   "cell_type": "markdown",
   "metadata": {},
   "source": [
    "## Cluster analysis\n",
    "### Objectives\n",
    "* Classify nonsense and frameshift mutations\n",
    "* Filter based on CADD > 20, Combined Annotation Dependent Depletion (CADD) method\n",
    "* Identify likely deleterious variant clusters in patient genes\n",
    "* Generate statistics on gene clustering"
   ]
  },
  {
   "cell_type": "markdown",
   "metadata": {},
   "source": [
    "### Description\n",
    "Given a large set of cases, variants contributing to a disease trait will form detectable clusters within specific regions of a gene or genes which, when mutated, lead to the disease. Given reliable sequencing data, clusters can be uncovered using the Wd statistic.\n",
    "\n",
    "For each gene coding sequence (CDS), we enter the number of hits that fall within the CDS and the probabibility of a single hit falling within this particular CDS given the exome's total CDS size."
   ]
  },
  {
   "cell_type": "markdown",
   "metadata": {},
   "source": [
    "### Resources used in the original analysis\n",
    "* [Combined Annotation Dependent Depletion](https://cadd.gs.washington.edu/) (CADD) [v.1.3](https://cadd.gs.washington.edu/static/ReleaseNotes_CADD_v1.3.pdf)\n",
    "* [googleCloudStorageR](https://github.com/cloudyr/googleCloudStorageR) v.0.4.0\n",
    "* [Ensembl 75](http://feb2014.archive.ensembl.org/index.html) provides gene coding sequence sizes"
   ]
  },
  {
   "cell_type": "markdown",
   "metadata": {},
   "source": [
    "### Analysis\n",
    "| Steps                                      | Input                                           | Output |\n",
    "|--------------------------------------------|-------------------------------------------------|--------|\n",
    "| Filter CADD >20 | gemini_out.txt                 | gemini_filtered     |\n",
    "| Count variants per gene                    |gemini_filtered                                  | variants_per_gene   |\n",
    "| Add genes that have a variant count of 0 or X | variants_per_gene | variants_per_CDS |\n",
    "| Sort and add CDS length as fraction of total CDS length | variants_per_CDS | variants_per_CDS_withsizes\n",
    "| Cluster analysis                           | variants_per_CDS_withsizes | new_data     |\n",
    "\n"
   ]
  },
  {
   "cell_type": "markdown",
   "metadata": {},
   "source": [
    "**Section 1: Install google cloud storage for R package in order to access the WDL outputs from Gemini.**"
   ]
  },
  {
   "cell_type": "markdown",
   "metadata": {},
   "source": [
    "Install google cloud's R package and generate a key to access the workspace's google bucket."
   ]
  },
  {
   "cell_type": "code",
   "execution_count": 1,
   "metadata": {
    "scrolled": true
   },
   "outputs": [
    {
     "name": "stderr",
     "output_type": "stream",
     "text": [
      "Installing package into ‘/home/jupyter-user/.rpackages’\n",
      "(as ‘lib’ is unspecified)\n"
     ]
    }
   ],
   "source": [
    "install.packages(\"googleCloudStorageR\")\n",
    "key <- Ronaldo::getServiceAccountKey()"
   ]
  },
  {
   "cell_type": "markdown",
   "metadata": {},
   "source": [
    "Save the key and write it to a json file that can be accessed from your local cluster."
   ]
  },
  {
   "cell_type": "code",
   "execution_count": 2,
   "metadata": {},
   "outputs": [],
   "source": [
    "fileConn<-file(\"/home/jupyter-user/key.json\")\n",
    "writeLines(key, fileConn)\n",
    "close(fileConn)"
   ]
  },
  {
   "cell_type": "markdown",
   "metadata": {},
   "source": [
    "Set environment variable so that googleCloudStorageR can authenticate itself."
   ]
  },
  {
   "cell_type": "code",
   "execution_count": 3,
   "metadata": {},
   "outputs": [],
   "source": [
    "Sys.setenv(\"GCS_AUTH_FILE\" = \"/home/jupyter-user/key.json\")"
   ]
  },
  {
   "cell_type": "markdown",
   "metadata": {},
   "source": [
    "Load package googleCloudStorageR. To see more features use *library(help = googleCloudStorageR)*."
   ]
  },
  {
   "cell_type": "code",
   "execution_count": 4,
   "metadata": {
    "scrolled": false
   },
   "outputs": [
    {
     "name": "stderr",
     "output_type": "stream",
     "text": [
      "Setting scopes to https://www.googleapis.com/auth/devstorage.full_control\n",
      "Successfully authenticated via /home/jupyter-user/key.json\n"
     ]
    }
   ],
   "source": [
    "library(googleCloudStorageR)"
   ]
  },
  {
   "cell_type": "markdown",
   "metadata": {},
   "source": [
    "**Section 2: Read the output from Gemini and start filtering. We are filtering out any variants that are not stop mutations or frameshift; since they are likely deleterious, or missense. For missense, we further focus on variants predicted to be highly deleterious using CADD (i.e. CADD score >= 20).**"
   ]
  },
  {
   "cell_type": "markdown",
   "metadata": {},
   "source": [
    "Note: In the workshop we will be accessing precomputed files since the method will not complete in time. For reproducibility, the author would adjust the WDL to output a file to the same location every time or have a copy of the Gemini output pushed to a separate location. Right now every new submission completed is stored in a separate directory for provenance purposes. "
   ]
  },
  {
   "cell_type": "markdown",
   "metadata": {},
   "source": [
    "Read gemini_out.txt from the Google bucket and save it to the local Jupyter cluster."
   ]
  },
  {
   "cell_type": "code",
   "execution_count": 5,
   "metadata": {},
   "outputs": [
    {
     "name": "stderr",
     "output_type": "stream",
     "text": [
      "2018-10-14 18:40:25 -- Saved 181017-ashg18/predicted-effects/Test-cohort-A100.jointcalls.filtered.gemini-predictions.txt to ../gemini_out.txt (3 Mb)\n"
     ]
    },
    {
     "data": {
      "text/html": [
       "TRUE"
      ],
      "text/latex": [
       "TRUE"
      ],
      "text/markdown": [
       "TRUE"
      ],
      "text/plain": [
       "[1] TRUE"
      ]
     },
     "metadata": {},
     "output_type": "display_data"
    }
   ],
   "source": [
    "gcs_get_object(\"gs://firecloud-workshops/181017-ashg18/predicted-effects/Test-cohort-A100.jointcalls.filtered.gemini-predictions.txt\",saveToDisk = \"../gemini_out.txt\",overwrite= TRUE)\n",
    "gemini_out<-read.table(\"/home/jupyter-user/gemini_out.txt\",sep = \"\\t\", header = TRUE)"
   ]
  },
  {
   "cell_type": "markdown",
   "metadata": {},
   "source": [
    "Replace 'None' with 0 for the next step where we filter on a numeric CADD score."
   ]
  },
  {
   "cell_type": "code",
   "execution_count": 6,
   "metadata": {},
   "outputs": [
    {
     "name": "stderr",
     "output_type": "stream",
     "text": [
      "Warning message in eval(expr, envir, enclos):\n",
      "“NAs introduced by coercion”"
     ]
    }
   ],
   "source": [
    "gemini_out$cadd_scaled <- as.numeric(as.character(gemini_out$cadd_scaled))\n",
    "gemini_out$cadd_scaled[is.na(gemini_out$cadd_scaled)] <- 0"
   ]
  },
  {
   "cell_type": "markdown",
   "metadata": {},
   "source": [
    "Filter for CADD score >= 20."
   ]
  },
  {
   "cell_type": "code",
   "execution_count": 7,
   "metadata": {},
   "outputs": [],
   "source": [
    "gemini_filtered<-gemini_out[(gemini_out$biotype==\"protein_coding\")& (gemini_out$cadd_scaled>=20),]"
   ]
  },
  {
   "cell_type": "markdown",
   "metadata": {},
   "source": [
    "Read Ensembl gene CDS sizes from a file in the Google bucket."
   ]
  },
  {
   "cell_type": "code",
   "execution_count": 8,
   "metadata": {},
   "outputs": [
    {
     "name": "stderr",
     "output_type": "stream",
     "text": [
      "2018-10-14 18:40:55 -- Saved 181017-ashg18/annotation/Ensembl75_gene_CDS_sizes.txt to ../ENS75.txt (316.1 Kb)\n"
     ]
    },
    {
     "data": {
      "text/html": [
       "TRUE"
      ],
      "text/latex": [
       "TRUE"
      ],
      "text/markdown": [
       "TRUE"
      ],
      "text/plain": [
       "[1] TRUE"
      ]
     },
     "metadata": {},
     "output_type": "display_data"
    }
   ],
   "source": [
    "gcs_get_object(\"gs://firecloud-workshops/181017-ashg18/annotation/Ensembl75_gene_CDS_sizes.txt\",saveToDisk = \"../ENS75.txt\",overwrite= TRUE)\n",
    "CDS_size <- read.table(\"/home/jupyter-user/ENS75.txt\",sep = \"\\t\", header = TRUE)"
   ]
  },
  {
   "cell_type": "markdown",
   "metadata": {},
   "source": [
    "Count number of variants per gene."
   ]
  },
  {
   "cell_type": "code",
   "execution_count": 9,
   "metadata": {},
   "outputs": [],
   "source": [
    "variants_per_gene<-aggregate(x = gemini_filtered$gene, by = list(gene = gemini_filtered$gene), FUN = length)\n",
    "colnames(variants_per_gene) <- c(\"gene\",\"variant_count\")"
   ]
  },
  {
   "cell_type": "markdown",
   "metadata": {},
   "source": [
    "Add genes that have a variant count of 0 and remove genes that don't have an incomplete CDS."
   ]
  },
  {
   "cell_type": "code",
   "execution_count": 10,
   "metadata": {},
   "outputs": [],
   "source": [
    "variants_per_CDS<-rbind.data.frame(variants_per_gene[variants_per_gene$gene %in% CDS_size$gene,], data.frame(gene = setdiff(CDS_size$gene,variants_per_gene$gene), variant_count = 0))                   \n"
   ]
  },
  {
   "cell_type": "markdown",
   "metadata": {},
   "source": [
    "Sort and add CDS length as fraction of total CDS length."
   ]
  },
  {
   "cell_type": "code",
   "execution_count": 11,
   "metadata": {},
   "outputs": [
    {
     "data": {
      "text/html": [
       "<table>\n",
       "<thead><tr><th></th><th scope=col>gene</th><th scope=col>variant_count</th><th scope=col>length_proportion</th></tr></thead>\n",
       "<tbody>\n",
       "\t<tr><th scope=row>13507</th><td>A1BG       </td><td>0          </td><td>0.000033100</td></tr>\n",
       "\t<tr><th scope=row>21000</th><td>A1CF       </td><td>0          </td><td>0.000132969</td></tr>\n",
       "\t<tr><th scope=row>1</th><td>A2M        </td><td>3          </td><td>0.000069400</td></tr>\n",
       "\t<tr><th scope=row>2</th><td>A2ML1      </td><td>1          </td><td>0.000075600</td></tr>\n",
       "\t<tr><th scope=row>31000</th><td>A3GALT2    </td><td>0          </td><td>0.000014700</td></tr>\n",
       "\t<tr><th scope=row>3</th><td>A4GALT     </td><td>1          </td><td>0.000033500</td></tr>\n",
       "\t<tr><th scope=row>41000</th><td>A4GNT      </td><td>0          </td><td>0.000025500</td></tr>\n",
       "\t<tr><th scope=row>4</th><td>AAAS       </td><td>1          </td><td>0.000028900</td></tr>\n",
       "\t<tr><th scope=row>5</th><td>AACS       </td><td>1          </td><td>0.000095800</td></tr>\n",
       "\t<tr><th scope=row>51000</th><td>AADAC      </td><td>0          </td><td>0.000023600</td></tr>\n",
       "\t<tr><th scope=row>61000</th><td>AADACL2    </td><td>0          </td><td>0.000069900</td></tr>\n",
       "\t<tr><th scope=row>71000</th><td>AADACL3    </td><td>0          </td><td>0.000055300</td></tr>\n",
       "\t<tr><th scope=row>81000</th><td>AADACL4    </td><td>0          </td><td>0.000022700</td></tr>\n",
       "\t<tr><th scope=row>91000</th><td>AADAT      </td><td>0          </td><td>0.000032500</td></tr>\n",
       "\t<tr><th scope=row>6</th><td>AAED1      </td><td>1          </td><td>0.000041300</td></tr>\n",
       "\t<tr><th scope=row>101000</th><td>AAGAB      </td><td>0          </td><td>0.000040900</td></tr>\n",
       "\t<tr><th scope=row>111000</th><td>AAK1       </td><td>0          </td><td>0.000163493</td></tr>\n",
       "\t<tr><th scope=row>7</th><td>AAMDC      </td><td>1          </td><td>0.000010400</td></tr>\n",
       "\t<tr><th scope=row>121000</th><td>AAMP       </td><td>0          </td><td>0.000032700</td></tr>\n",
       "\t<tr><th scope=row>8</th><td>AANAT      </td><td>1          </td><td>0.000027500</td></tr>\n",
       "\t<tr><th scope=row>13508</th><td>AAR2       </td><td>0          </td><td>0.000038800</td></tr>\n",
       "\t<tr><th scope=row>9</th><td>AARD       </td><td>2          </td><td>0.000033200</td></tr>\n",
       "\t<tr><th scope=row>14100</th><td>AARS       </td><td>0          </td><td>0.000049900</td></tr>\n",
       "\t<tr><th scope=row>10</th><td>AARS2      </td><td>1          </td><td>0.000055300</td></tr>\n",
       "\t<tr><th scope=row>15100</th><td>AARSD1     </td><td>0          </td><td>0.000018900</td></tr>\n",
       "\t<tr><th scope=row>16100</th><td>AASDH      </td><td>0          </td><td>0.000051600</td></tr>\n",
       "\t<tr><th scope=row>17100</th><td>AASDHPPT   </td><td>0          </td><td>0.000074300</td></tr>\n",
       "\t<tr><th scope=row>18100</th><td>AASS       </td><td>0          </td><td>0.000046300</td></tr>\n",
       "\t<tr><th scope=row>11</th><td>AATF       </td><td>1          </td><td>0.000030700</td></tr>\n",
       "\t<tr><th scope=row>19100</th><td>ABAT       </td><td>0          </td><td>0.000080400</td></tr>\n",
       "\t<tr><th scope=row>⋮</th><td>⋮</td><td>⋮</td><td>⋮</td></tr>\n",
       "\t<tr><th scope=row>13485</th><td>ZSCAN29    </td><td>0          </td><td>0.000080700</td></tr>\n",
       "\t<tr><th scope=row>13486</th><td>ZSCAN30    </td><td>0          </td><td>0.000062300</td></tr>\n",
       "\t<tr><th scope=row>13487</th><td>ZSCAN31    </td><td>0          </td><td>0.000051200</td></tr>\n",
       "\t<tr><th scope=row>5699</th><td>ZSCAN32    </td><td>1          </td><td>0.000045700</td></tr>\n",
       "\t<tr><th scope=row>13488</th><td>ZSCAN4     </td><td>0          </td><td>0.000032400</td></tr>\n",
       "\t<tr><th scope=row>13489</th><td>ZSCAN5A    </td><td>0          </td><td>0.000035300</td></tr>\n",
       "\t<tr><th scope=row>13490</th><td>ZSCAN5B    </td><td>0          </td><td>0.000029700</td></tr>\n",
       "\t<tr><th scope=row>13491</th><td>ZSCAN5C    </td><td>0          </td><td>0.000027200</td></tr>\n",
       "\t<tr><th scope=row>13492</th><td>ZSCAN5D    </td><td>0          </td><td>0.000021500</td></tr>\n",
       "\t<tr><th scope=row>5700</th><td>ZSCAN9     </td><td>1          </td><td>0.000029700</td></tr>\n",
       "\t<tr><th scope=row>13493</th><td>ZSWIM1     </td><td>0          </td><td>0.000040000</td></tr>\n",
       "\t<tr><th scope=row>13494</th><td>ZSWIM2     </td><td>0          </td><td>0.000030100</td></tr>\n",
       "\t<tr><th scope=row>5701</th><td>ZSWIM3     </td><td>2          </td><td>0.000040000</td></tr>\n",
       "\t<tr><th scope=row>5702</th><td>ZSWIM4     </td><td>1          </td><td>0.000062500</td></tr>\n",
       "\t<tr><th scope=row>13495</th><td>ZSWIM5     </td><td>0          </td><td>0.000083800</td></tr>\n",
       "\t<tr><th scope=row>13496</th><td>ZSWIM6     </td><td>0          </td><td>0.000079200</td></tr>\n",
       "\t<tr><th scope=row>13497</th><td>ZSWIM7     </td><td>0          </td><td>0.000028900</td></tr>\n",
       "\t<tr><th scope=row>5703</th><td>ZSWIM8     </td><td>2          </td><td>0.000087300</td></tr>\n",
       "\t<tr><th scope=row>5704</th><td>ZUFSP      </td><td>1          </td><td>0.000031500</td></tr>\n",
       "\t<tr><th scope=row>13498</th><td>ZW10       </td><td>0          </td><td>0.000043000</td></tr>\n",
       "\t<tr><th scope=row>13499</th><td>ZWILCH     </td><td>0          </td><td>0.000051800</td></tr>\n",
       "\t<tr><th scope=row>5705</th><td>ZWINT      </td><td>1          </td><td>0.000028200</td></tr>\n",
       "\t<tr><th scope=row>13500</th><td>ZXDA       </td><td>0          </td><td>0.000075100</td></tr>\n",
       "\t<tr><th scope=row>13501</th><td>ZXDB       </td><td>0          </td><td>0.000081400</td></tr>\n",
       "\t<tr><th scope=row>13502</th><td>ZXDC       </td><td>0          </td><td>0.000067000</td></tr>\n",
       "\t<tr><th scope=row>13503</th><td>ZYG11A     </td><td>0          </td><td>0.000064300</td></tr>\n",
       "\t<tr><th scope=row>13504</th><td>ZYG11B     </td><td>0          </td><td>0.000116653</td></tr>\n",
       "\t<tr><th scope=row>13505</th><td>ZYX        </td><td>0          </td><td>0.000035900</td></tr>\n",
       "\t<tr><th scope=row>5706</th><td>ZZEF1      </td><td>5          </td><td>0.000164619</td></tr>\n",
       "\t<tr><th scope=row>13506</th><td>ZZZ3       </td><td>0          </td><td>0.000068300</td></tr>\n",
       "</tbody>\n",
       "</table>\n"
      ],
      "text/latex": [
       "\\begin{tabular}{r|lll}\n",
       "  & gene & variant\\_count & length\\_proportion\\\\\n",
       "\\hline\n",
       "\t13507 & A1BG        & 0           & 0.000033100\\\\\n",
       "\t21000 & A1CF        & 0           & 0.000132969\\\\\n",
       "\t1 & A2M         & 3           & 0.000069400\\\\\n",
       "\t2 & A2ML1       & 1           & 0.000075600\\\\\n",
       "\t31000 & A3GALT2     & 0           & 0.000014700\\\\\n",
       "\t3 & A4GALT      & 1           & 0.000033500\\\\\n",
       "\t41000 & A4GNT       & 0           & 0.000025500\\\\\n",
       "\t4 & AAAS        & 1           & 0.000028900\\\\\n",
       "\t5 & AACS        & 1           & 0.000095800\\\\\n",
       "\t51000 & AADAC       & 0           & 0.000023600\\\\\n",
       "\t61000 & AADACL2     & 0           & 0.000069900\\\\\n",
       "\t71000 & AADACL3     & 0           & 0.000055300\\\\\n",
       "\t81000 & AADACL4     & 0           & 0.000022700\\\\\n",
       "\t91000 & AADAT       & 0           & 0.000032500\\\\\n",
       "\t6 & AAED1       & 1           & 0.000041300\\\\\n",
       "\t101000 & AAGAB       & 0           & 0.000040900\\\\\n",
       "\t111000 & AAK1        & 0           & 0.000163493\\\\\n",
       "\t7 & AAMDC       & 1           & 0.000010400\\\\\n",
       "\t121000 & AAMP        & 0           & 0.000032700\\\\\n",
       "\t8 & AANAT       & 1           & 0.000027500\\\\\n",
       "\t13508 & AAR2        & 0           & 0.000038800\\\\\n",
       "\t9 & AARD        & 2           & 0.000033200\\\\\n",
       "\t14100 & AARS        & 0           & 0.000049900\\\\\n",
       "\t10 & AARS2       & 1           & 0.000055300\\\\\n",
       "\t15100 & AARSD1      & 0           & 0.000018900\\\\\n",
       "\t16100 & AASDH       & 0           & 0.000051600\\\\\n",
       "\t17100 & AASDHPPT    & 0           & 0.000074300\\\\\n",
       "\t18100 & AASS        & 0           & 0.000046300\\\\\n",
       "\t11 & AATF        & 1           & 0.000030700\\\\\n",
       "\t19100 & ABAT        & 0           & 0.000080400\\\\\n",
       "\t⋮ & ⋮ & ⋮ & ⋮\\\\\n",
       "\t13485 & ZSCAN29     & 0           & 0.000080700\\\\\n",
       "\t13486 & ZSCAN30     & 0           & 0.000062300\\\\\n",
       "\t13487 & ZSCAN31     & 0           & 0.000051200\\\\\n",
       "\t5699 & ZSCAN32     & 1           & 0.000045700\\\\\n",
       "\t13488 & ZSCAN4      & 0           & 0.000032400\\\\\n",
       "\t13489 & ZSCAN5A     & 0           & 0.000035300\\\\\n",
       "\t13490 & ZSCAN5B     & 0           & 0.000029700\\\\\n",
       "\t13491 & ZSCAN5C     & 0           & 0.000027200\\\\\n",
       "\t13492 & ZSCAN5D     & 0           & 0.000021500\\\\\n",
       "\t5700 & ZSCAN9      & 1           & 0.000029700\\\\\n",
       "\t13493 & ZSWIM1      & 0           & 0.000040000\\\\\n",
       "\t13494 & ZSWIM2      & 0           & 0.000030100\\\\\n",
       "\t5701 & ZSWIM3      & 2           & 0.000040000\\\\\n",
       "\t5702 & ZSWIM4      & 1           & 0.000062500\\\\\n",
       "\t13495 & ZSWIM5      & 0           & 0.000083800\\\\\n",
       "\t13496 & ZSWIM6      & 0           & 0.000079200\\\\\n",
       "\t13497 & ZSWIM7      & 0           & 0.000028900\\\\\n",
       "\t5703 & ZSWIM8      & 2           & 0.000087300\\\\\n",
       "\t5704 & ZUFSP       & 1           & 0.000031500\\\\\n",
       "\t13498 & ZW10        & 0           & 0.000043000\\\\\n",
       "\t13499 & ZWILCH      & 0           & 0.000051800\\\\\n",
       "\t5705 & ZWINT       & 1           & 0.000028200\\\\\n",
       "\t13500 & ZXDA        & 0           & 0.000075100\\\\\n",
       "\t13501 & ZXDB        & 0           & 0.000081400\\\\\n",
       "\t13502 & ZXDC        & 0           & 0.000067000\\\\\n",
       "\t13503 & ZYG11A      & 0           & 0.000064300\\\\\n",
       "\t13504 & ZYG11B      & 0           & 0.000116653\\\\\n",
       "\t13505 & ZYX         & 0           & 0.000035900\\\\\n",
       "\t5706 & ZZEF1       & 5           & 0.000164619\\\\\n",
       "\t13506 & ZZZ3        & 0           & 0.000068300\\\\\n",
       "\\end{tabular}\n"
      ],
      "text/markdown": [
       "\n",
       "| <!--/--> | gene | variant_count | length_proportion | \n",
       "|---|---|---|---|---|---|---|---|---|---|---|---|---|---|---|---|---|---|---|---|---|---|---|---|---|---|---|---|---|---|---|---|---|---|---|---|---|---|---|---|---|---|---|---|---|---|---|---|---|---|---|---|---|---|---|---|---|---|---|---|---|\n",
       "| 13507 | A1BG        | 0           | 0.000033100 | \n",
       "| 21000 | A1CF        | 0           | 0.000132969 | \n",
       "| 1 | A2M         | 3           | 0.000069400 | \n",
       "| 2 | A2ML1       | 1           | 0.000075600 | \n",
       "| 31000 | A3GALT2     | 0           | 0.000014700 | \n",
       "| 3 | A4GALT      | 1           | 0.000033500 | \n",
       "| 41000 | A4GNT       | 0           | 0.000025500 | \n",
       "| 4 | AAAS        | 1           | 0.000028900 | \n",
       "| 5 | AACS        | 1           | 0.000095800 | \n",
       "| 51000 | AADAC       | 0           | 0.000023600 | \n",
       "| 61000 | AADACL2     | 0           | 0.000069900 | \n",
       "| 71000 | AADACL3     | 0           | 0.000055300 | \n",
       "| 81000 | AADACL4     | 0           | 0.000022700 | \n",
       "| 91000 | AADAT       | 0           | 0.000032500 | \n",
       "| 6 | AAED1       | 1           | 0.000041300 | \n",
       "| 101000 | AAGAB       | 0           | 0.000040900 | \n",
       "| 111000 | AAK1        | 0           | 0.000163493 | \n",
       "| 7 | AAMDC       | 1           | 0.000010400 | \n",
       "| 121000 | AAMP        | 0           | 0.000032700 | \n",
       "| 8 | AANAT       | 1           | 0.000027500 | \n",
       "| 13508 | AAR2        | 0           | 0.000038800 | \n",
       "| 9 | AARD        | 2           | 0.000033200 | \n",
       "| 14100 | AARS        | 0           | 0.000049900 | \n",
       "| 10 | AARS2       | 1           | 0.000055300 | \n",
       "| 15100 | AARSD1      | 0           | 0.000018900 | \n",
       "| 16100 | AASDH       | 0           | 0.000051600 | \n",
       "| 17100 | AASDHPPT    | 0           | 0.000074300 | \n",
       "| 18100 | AASS        | 0           | 0.000046300 | \n",
       "| 11 | AATF        | 1           | 0.000030700 | \n",
       "| 19100 | ABAT        | 0           | 0.000080400 | \n",
       "| ⋮ | ⋮ | ⋮ | ⋮ | \n",
       "| 13485 | ZSCAN29     | 0           | 0.000080700 | \n",
       "| 13486 | ZSCAN30     | 0           | 0.000062300 | \n",
       "| 13487 | ZSCAN31     | 0           | 0.000051200 | \n",
       "| 5699 | ZSCAN32     | 1           | 0.000045700 | \n",
       "| 13488 | ZSCAN4      | 0           | 0.000032400 | \n",
       "| 13489 | ZSCAN5A     | 0           | 0.000035300 | \n",
       "| 13490 | ZSCAN5B     | 0           | 0.000029700 | \n",
       "| 13491 | ZSCAN5C     | 0           | 0.000027200 | \n",
       "| 13492 | ZSCAN5D     | 0           | 0.000021500 | \n",
       "| 5700 | ZSCAN9      | 1           | 0.000029700 | \n",
       "| 13493 | ZSWIM1      | 0           | 0.000040000 | \n",
       "| 13494 | ZSWIM2      | 0           | 0.000030100 | \n",
       "| 5701 | ZSWIM3      | 2           | 0.000040000 | \n",
       "| 5702 | ZSWIM4      | 1           | 0.000062500 | \n",
       "| 13495 | ZSWIM5      | 0           | 0.000083800 | \n",
       "| 13496 | ZSWIM6      | 0           | 0.000079200 | \n",
       "| 13497 | ZSWIM7      | 0           | 0.000028900 | \n",
       "| 5703 | ZSWIM8      | 2           | 0.000087300 | \n",
       "| 5704 | ZUFSP       | 1           | 0.000031500 | \n",
       "| 13498 | ZW10        | 0           | 0.000043000 | \n",
       "| 13499 | ZWILCH      | 0           | 0.000051800 | \n",
       "| 5705 | ZWINT       | 1           | 0.000028200 | \n",
       "| 13500 | ZXDA        | 0           | 0.000075100 | \n",
       "| 13501 | ZXDB        | 0           | 0.000081400 | \n",
       "| 13502 | ZXDC        | 0           | 0.000067000 | \n",
       "| 13503 | ZYG11A      | 0           | 0.000064300 | \n",
       "| 13504 | ZYG11B      | 0           | 0.000116653 | \n",
       "| 13505 | ZYX         | 0           | 0.000035900 | \n",
       "| 5706 | ZZEF1       | 5           | 0.000164619 | \n",
       "| 13506 | ZZZ3        | 0           | 0.000068300 | \n",
       "\n",
       "\n"
      ],
      "text/plain": [
       "       gene     variant_count length_proportion\n",
       "13507  A1BG     0             0.000033100      \n",
       "21000  A1CF     0             0.000132969      \n",
       "1      A2M      3             0.000069400      \n",
       "2      A2ML1    1             0.000075600      \n",
       "31000  A3GALT2  0             0.000014700      \n",
       "3      A4GALT   1             0.000033500      \n",
       "41000  A4GNT    0             0.000025500      \n",
       "4      AAAS     1             0.000028900      \n",
       "5      AACS     1             0.000095800      \n",
       "51000  AADAC    0             0.000023600      \n",
       "61000  AADACL2  0             0.000069900      \n",
       "71000  AADACL3  0             0.000055300      \n",
       "81000  AADACL4  0             0.000022700      \n",
       "91000  AADAT    0             0.000032500      \n",
       "6      AAED1    1             0.000041300      \n",
       "101000 AAGAB    0             0.000040900      \n",
       "111000 AAK1     0             0.000163493      \n",
       "7      AAMDC    1             0.000010400      \n",
       "121000 AAMP     0             0.000032700      \n",
       "8      AANAT    1             0.000027500      \n",
       "13508  AAR2     0             0.000038800      \n",
       "9      AARD     2             0.000033200      \n",
       "14100  AARS     0             0.000049900      \n",
       "10     AARS2    1             0.000055300      \n",
       "15100  AARSD1   0             0.000018900      \n",
       "16100  AASDH    0             0.000051600      \n",
       "17100  AASDHPPT 0             0.000074300      \n",
       "18100  AASS     0             0.000046300      \n",
       "11     AATF     1             0.000030700      \n",
       "19100  ABAT     0             0.000080400      \n",
       "⋮      ⋮        ⋮             ⋮                \n",
       "13485  ZSCAN29  0             0.000080700      \n",
       "13486  ZSCAN30  0             0.000062300      \n",
       "13487  ZSCAN31  0             0.000051200      \n",
       "5699   ZSCAN32  1             0.000045700      \n",
       "13488  ZSCAN4   0             0.000032400      \n",
       "13489  ZSCAN5A  0             0.000035300      \n",
       "13490  ZSCAN5B  0             0.000029700      \n",
       "13491  ZSCAN5C  0             0.000027200      \n",
       "13492  ZSCAN5D  0             0.000021500      \n",
       "5700   ZSCAN9   1             0.000029700      \n",
       "13493  ZSWIM1   0             0.000040000      \n",
       "13494  ZSWIM2   0             0.000030100      \n",
       "5701   ZSWIM3   2             0.000040000      \n",
       "5702   ZSWIM4   1             0.000062500      \n",
       "13495  ZSWIM5   0             0.000083800      \n",
       "13496  ZSWIM6   0             0.000079200      \n",
       "13497  ZSWIM7   0             0.000028900      \n",
       "5703   ZSWIM8   2             0.000087300      \n",
       "5704   ZUFSP    1             0.000031500      \n",
       "13498  ZW10     0             0.000043000      \n",
       "13499  ZWILCH   0             0.000051800      \n",
       "5705   ZWINT    1             0.000028200      \n",
       "13500  ZXDA     0             0.000075100      \n",
       "13501  ZXDB     0             0.000081400      \n",
       "13502  ZXDC     0             0.000067000      \n",
       "13503  ZYG11A   0             0.000064300      \n",
       "13504  ZYG11B   0             0.000116653      \n",
       "13505  ZYX      0             0.000035900      \n",
       "5706   ZZEF1    5             0.000164619      \n",
       "13506  ZZZ3     0             0.000068300      "
      ]
     },
     "metadata": {},
     "output_type": "display_data"
    }
   ],
   "source": [
    "sorted<-variants_per_CDS[order(as.character(variants_per_CDS$gene)),]\n",
    "variants_per_CDS_withsizes<-data.frame(sorted,length_proportion=CDS_size$length_proportion)\n",
    "variants_per_CDS_withsizes"
   ]
  },
  {
   "cell_type": "markdown",
   "metadata": {},
   "source": [
    "**Section 3: Perform the Cluster.Test method to identify genes where significantly more variants are observed than expected.\n",
    "The method takes in two arguments: NbrInTarget and TargetProbability.**\n",
    "\n",
    "**NbrInTarget** is derived from our data and consists of a list of numbers which correspond to the number of variants (or hits) per each CDS.\n",
    "\n",
    "**TargetProbability** is the fraction of the total human coding sequence represented by each gene coding sequence. (i.e. gene CDS size/total CDS size). This information is typically derived from BioMart but we can just provide it directly in a file in the Google bucket.\n",
    "\n",
    "Therefore:\n",
    "* N is the number of genes/gene CDS being tested.\n",
    "* TotalHits is the total number of variants.\n",
    "* ExpectedHits is the number of variants we expect to see in a gene CDS based on its size.\n",
    "\n",
    "The last line is applying multiple testing correction to the statistical method i.e. N tests for N gene CDS.\n"
   ]
  },
  {
   "cell_type": "code",
   "execution_count": 12,
   "metadata": {},
   "outputs": [],
   "source": [
    "Cluster.Test<-function(NbrInTarget,TargetProbability){\n",
    "N<-length(NbrInTarget)\n",
    "TotalHits<-sum(NbrInTarget)\n",
    "ExpectedHits<-TotalHits*TargetProbability\n",
    "# N*ppois(NbrInTarget,ExpectedHits,lower=F)\n",
    "1-exp(ppois(NbrInTarget,ExpectedHits,lower=T,log=T)*N)\n",
    "}"
   ]
  },
  {
   "cell_type": "markdown",
   "metadata": {},
   "source": [
    "**Section 4: Review the output of the Cluster.Test.**"
   ]
  },
  {
   "cell_type": "markdown",
   "metadata": {},
   "source": [
    "This table tells us that NOTCH1 is the locus harbouring the highest excess of rare, deleterious variants among ToF patients. The idea is that we are comparing the number of variants we would expect by chance and the number of variants we actually observe. Some genes are so big that they’ll definitely have more of variants than NOTCH1, but what’s significant for NOTCH1 is how many variants it has given its size."
   ]
  },
  {
   "cell_type": "code",
   "execution_count": 13,
   "metadata": {},
   "outputs": [
    {
     "data": {
      "text/html": [
       "<table>\n",
       "<thead><tr><th></th><th scope=col>gene</th><th scope=col>variant_count</th><th scope=col>length_proportion</th><th scope=col>cluster.test.result</th></tr></thead>\n",
       "<tbody>\n",
       "\t<tr><th scope=row>3370</th><td>OBSCN       </td><td>21          </td><td>0.000387125 </td><td>8.372589e-08</td></tr>\n",
       "\t<tr><th scope=row>3272</th><td>NOTCH1      </td><td>11          </td><td>0.000134817 </td><td>4.622681e-05</td></tr>\n",
       "\t<tr><th scope=row>4524</th><td>SLC22A10    </td><td> 6          </td><td>0.000032100 </td><td>2.575925e-04</td></tr>\n",
       "\t<tr><th scope=row>3118</th><td>MYOM2       </td><td> 8          </td><td>0.000071900 </td><td>2.591620e-04</td></tr>\n",
       "\t<tr><th scope=row>3439</th><td>OR4D9       </td><td> 4          </td><td>0.000013600 </td><td>2.458870e-03</td></tr>\n",
       "\t<tr><th scope=row>2527</th><td>KLC3        </td><td> 5          </td><td>0.000028800 </td><td>3.680924e-03</td></tr>\n",
       "\t<tr><th scope=row>5011</th><td>TJP3        </td><td> 6          </td><td>0.000048100 </td><td>3.892065e-03</td></tr>\n",
       "\t<tr><th scope=row>873</th><td>CDH23       </td><td> 9          </td><td>0.000144621 </td><td>9.554264e-03</td></tr>\n",
       "\t<tr><th scope=row>2785</th><td>LSP1        </td><td> 2          </td><td>0.000001930 </td><td>1.227944e-02</td></tr>\n",
       "\t<tr><th scope=row>730</th><td>CAPN9       </td><td> 5          </td><td>0.000035600 </td><td>1.246807e-02</td></tr>\n",
       "\t<tr><th scope=row>4458</th><td>SH3RF3      </td><td> 5          </td><td>0.000045200 </td><td>4.797339e-02</td></tr>\n",
       "\t<tr><th scope=row>5243</th><td>TTLL4       </td><td> 6          </td><td>0.000071400 </td><td>5.113539e-02</td></tr>\n",
       "\t<tr><th scope=row>2197</th><td>HOXD12      </td><td> 4          </td><td>0.000026000 </td><td>5.616052e-02</td></tr>\n",
       "\t<tr><th scope=row>1380</th><td>DNAH7       </td><td> 9          </td><td>0.000178019 </td><td>5.822528e-02</td></tr>\n",
       "\t<tr><th scope=row>3753</th><td>PLA2G4B     </td><td> 5          </td><td>0.000048200 </td><td>6.835042e-02</td></tr>\n",
       "\t<tr><th scope=row>3776</th><td>PLD4        </td><td> 4          </td><td>0.000028800 </td><td>9.024192e-02</td></tr>\n",
       "\t<tr><th scope=row>1447</th><td>DYNC2H1     </td><td> 9          </td><td>0.000196212 </td><td>1.296934e-01</td></tr>\n",
       "\t<tr><th scope=row>4259</th><td>RPL3L       </td><td> 4          </td><td>0.000031400 </td><td>1.333864e-01</td></tr>\n",
       "\t<tr><th scope=row>4400</th><td>SEMA4B      </td><td> 5          </td><td>0.000054800 </td><td>1.358878e-01</td></tr>\n",
       "\t<tr><th scope=row>3699</th><td>PHF3        </td><td> 7          </td><td>0.000118646 </td><td>1.453259e-01</td></tr>\n",
       "\t<tr><th scope=row>2358</th><td>ITFG3       </td><td> 4          </td><td>0.000032200 </td><td>1.491133e-01</td></tr>\n",
       "\t<tr><th scope=row>3432</th><td>OR2Z1       </td><td> 3          </td><td>0.000015200 </td><td>1.577791e-01</td></tr>\n",
       "\t<tr><th scope=row>1765</th><td>FER1L6      </td><td> 6          </td><td>0.000086800 </td><td>1.686441e-01</td></tr>\n",
       "\t<tr><th scope=row>2587</th><td>KRT75       </td><td> 4          </td><td>0.000033400 </td><td>1.749619e-01</td></tr>\n",
       "\t<tr><th scope=row>3454</th><td>OR51Q1      </td><td> 3          </td><td>0.000015800 </td><td>1.810174e-01</td></tr>\n",
       "\t<tr><th scope=row>1746</th><td>FBXW5       </td><td> 4          </td><td>0.000034400 </td><td>1.985970e-01</td></tr>\n",
       "\t<tr><th scope=row>4426</th><td>SERPIND1    </td><td> 4          </td><td>0.000035100 </td><td>2.162743e-01</td></tr>\n",
       "\t<tr><th scope=row>1403</th><td>DOCK6       </td><td> 6          </td><td>0.000091100 </td><td>2.222343e-01</td></tr>\n",
       "\t<tr><th scope=row>881</th><td>CDK11A      </td><td> 4          </td><td>0.000038000 </td><td>2.991085e-01</td></tr>\n",
       "\t<tr><th scope=row>2763</th><td>LRRC47      </td><td> 4          </td><td>0.000038100 </td><td>3.022260e-01</td></tr>\n",
       "\t<tr><th scope=row>⋮</th><td>⋮</td><td>⋮</td><td>⋮</td><td>⋮</td></tr>\n",
       "\t<tr><th scope=row>13485</th><td>ZSCAN29    </td><td>0          </td><td>0.000080700</td><td>1          </td></tr>\n",
       "\t<tr><th scope=row>13486</th><td>ZSCAN30    </td><td>0          </td><td>0.000062300</td><td>1          </td></tr>\n",
       "\t<tr><th scope=row>13487</th><td>ZSCAN31    </td><td>0          </td><td>0.000051200</td><td>1          </td></tr>\n",
       "\t<tr><th scope=row>5699</th><td>ZSCAN32    </td><td>1          </td><td>0.000045700</td><td>1          </td></tr>\n",
       "\t<tr><th scope=row>13488</th><td>ZSCAN4     </td><td>0          </td><td>0.000032400</td><td>1          </td></tr>\n",
       "\t<tr><th scope=row>13489</th><td>ZSCAN5A    </td><td>0          </td><td>0.000035300</td><td>1          </td></tr>\n",
       "\t<tr><th scope=row>13490</th><td>ZSCAN5B    </td><td>0          </td><td>0.000029700</td><td>1          </td></tr>\n",
       "\t<tr><th scope=row>13491</th><td>ZSCAN5C    </td><td>0          </td><td>0.000027200</td><td>1          </td></tr>\n",
       "\t<tr><th scope=row>13492</th><td>ZSCAN5D    </td><td>0          </td><td>0.000021500</td><td>1          </td></tr>\n",
       "\t<tr><th scope=row>5700</th><td>ZSCAN9     </td><td>1          </td><td>0.000029700</td><td>1          </td></tr>\n",
       "\t<tr><th scope=row>13493</th><td>ZSWIM1     </td><td>0          </td><td>0.000040000</td><td>1          </td></tr>\n",
       "\t<tr><th scope=row>13494</th><td>ZSWIM2     </td><td>0          </td><td>0.000030100</td><td>1          </td></tr>\n",
       "\t<tr><th scope=row>5701</th><td>ZSWIM3     </td><td>2          </td><td>0.000040000</td><td>1          </td></tr>\n",
       "\t<tr><th scope=row>5702</th><td>ZSWIM4     </td><td>1          </td><td>0.000062500</td><td>1          </td></tr>\n",
       "\t<tr><th scope=row>13495</th><td>ZSWIM5     </td><td>0          </td><td>0.000083800</td><td>1          </td></tr>\n",
       "\t<tr><th scope=row>13496</th><td>ZSWIM6     </td><td>0          </td><td>0.000079200</td><td>1          </td></tr>\n",
       "\t<tr><th scope=row>13497</th><td>ZSWIM7     </td><td>0          </td><td>0.000028900</td><td>1          </td></tr>\n",
       "\t<tr><th scope=row>5703</th><td>ZSWIM8     </td><td>2          </td><td>0.000087300</td><td>1          </td></tr>\n",
       "\t<tr><th scope=row>5704</th><td>ZUFSP      </td><td>1          </td><td>0.000031500</td><td>1          </td></tr>\n",
       "\t<tr><th scope=row>13498</th><td>ZW10       </td><td>0          </td><td>0.000043000</td><td>1          </td></tr>\n",
       "\t<tr><th scope=row>13499</th><td>ZWILCH     </td><td>0          </td><td>0.000051800</td><td>1          </td></tr>\n",
       "\t<tr><th scope=row>5705</th><td>ZWINT      </td><td>1          </td><td>0.000028200</td><td>1          </td></tr>\n",
       "\t<tr><th scope=row>13500</th><td>ZXDA       </td><td>0          </td><td>0.000075100</td><td>1          </td></tr>\n",
       "\t<tr><th scope=row>13501</th><td>ZXDB       </td><td>0          </td><td>0.000081400</td><td>1          </td></tr>\n",
       "\t<tr><th scope=row>13502</th><td>ZXDC       </td><td>0          </td><td>0.000067000</td><td>1          </td></tr>\n",
       "\t<tr><th scope=row>13503</th><td>ZYG11A     </td><td>0          </td><td>0.000064300</td><td>1          </td></tr>\n",
       "\t<tr><th scope=row>13504</th><td>ZYG11B     </td><td>0          </td><td>0.000116653</td><td>1          </td></tr>\n",
       "\t<tr><th scope=row>13505</th><td>ZYX        </td><td>0          </td><td>0.000035900</td><td>1          </td></tr>\n",
       "\t<tr><th scope=row>5706</th><td>ZZEF1      </td><td>5          </td><td>0.000164619</td><td>1          </td></tr>\n",
       "\t<tr><th scope=row>13506</th><td>ZZZ3       </td><td>0          </td><td>0.000068300</td><td>1          </td></tr>\n",
       "</tbody>\n",
       "</table>\n"
      ],
      "text/latex": [
       "\\begin{tabular}{r|llll}\n",
       "  & gene & variant\\_count & length\\_proportion & cluster.test.result\\\\\n",
       "\\hline\n",
       "\t3370 & OBSCN        & 21           & 0.000387125  & 8.372589e-08\\\\\n",
       "\t3272 & NOTCH1       & 11           & 0.000134817  & 4.622681e-05\\\\\n",
       "\t4524 & SLC22A10     &  6           & 0.000032100  & 2.575925e-04\\\\\n",
       "\t3118 & MYOM2        &  8           & 0.000071900  & 2.591620e-04\\\\\n",
       "\t3439 & OR4D9        &  4           & 0.000013600  & 2.458870e-03\\\\\n",
       "\t2527 & KLC3         &  5           & 0.000028800  & 3.680924e-03\\\\\n",
       "\t5011 & TJP3         &  6           & 0.000048100  & 3.892065e-03\\\\\n",
       "\t873 & CDH23        &  9           & 0.000144621  & 9.554264e-03\\\\\n",
       "\t2785 & LSP1         &  2           & 0.000001930  & 1.227944e-02\\\\\n",
       "\t730 & CAPN9        &  5           & 0.000035600  & 1.246807e-02\\\\\n",
       "\t4458 & SH3RF3       &  5           & 0.000045200  & 4.797339e-02\\\\\n",
       "\t5243 & TTLL4        &  6           & 0.000071400  & 5.113539e-02\\\\\n",
       "\t2197 & HOXD12       &  4           & 0.000026000  & 5.616052e-02\\\\\n",
       "\t1380 & DNAH7        &  9           & 0.000178019  & 5.822528e-02\\\\\n",
       "\t3753 & PLA2G4B      &  5           & 0.000048200  & 6.835042e-02\\\\\n",
       "\t3776 & PLD4         &  4           & 0.000028800  & 9.024192e-02\\\\\n",
       "\t1447 & DYNC2H1      &  9           & 0.000196212  & 1.296934e-01\\\\\n",
       "\t4259 & RPL3L        &  4           & 0.000031400  & 1.333864e-01\\\\\n",
       "\t4400 & SEMA4B       &  5           & 0.000054800  & 1.358878e-01\\\\\n",
       "\t3699 & PHF3         &  7           & 0.000118646  & 1.453259e-01\\\\\n",
       "\t2358 & ITFG3        &  4           & 0.000032200  & 1.491133e-01\\\\\n",
       "\t3432 & OR2Z1        &  3           & 0.000015200  & 1.577791e-01\\\\\n",
       "\t1765 & FER1L6       &  6           & 0.000086800  & 1.686441e-01\\\\\n",
       "\t2587 & KRT75        &  4           & 0.000033400  & 1.749619e-01\\\\\n",
       "\t3454 & OR51Q1       &  3           & 0.000015800  & 1.810174e-01\\\\\n",
       "\t1746 & FBXW5        &  4           & 0.000034400  & 1.985970e-01\\\\\n",
       "\t4426 & SERPIND1     &  4           & 0.000035100  & 2.162743e-01\\\\\n",
       "\t1403 & DOCK6        &  6           & 0.000091100  & 2.222343e-01\\\\\n",
       "\t881 & CDK11A       &  4           & 0.000038000  & 2.991085e-01\\\\\n",
       "\t2763 & LRRC47       &  4           & 0.000038100  & 3.022260e-01\\\\\n",
       "\t⋮ & ⋮ & ⋮ & ⋮ & ⋮\\\\\n",
       "\t13485 & ZSCAN29     & 0           & 0.000080700 & 1          \\\\\n",
       "\t13486 & ZSCAN30     & 0           & 0.000062300 & 1          \\\\\n",
       "\t13487 & ZSCAN31     & 0           & 0.000051200 & 1          \\\\\n",
       "\t5699 & ZSCAN32     & 1           & 0.000045700 & 1          \\\\\n",
       "\t13488 & ZSCAN4      & 0           & 0.000032400 & 1          \\\\\n",
       "\t13489 & ZSCAN5A     & 0           & 0.000035300 & 1          \\\\\n",
       "\t13490 & ZSCAN5B     & 0           & 0.000029700 & 1          \\\\\n",
       "\t13491 & ZSCAN5C     & 0           & 0.000027200 & 1          \\\\\n",
       "\t13492 & ZSCAN5D     & 0           & 0.000021500 & 1          \\\\\n",
       "\t5700 & ZSCAN9      & 1           & 0.000029700 & 1          \\\\\n",
       "\t13493 & ZSWIM1      & 0           & 0.000040000 & 1          \\\\\n",
       "\t13494 & ZSWIM2      & 0           & 0.000030100 & 1          \\\\\n",
       "\t5701 & ZSWIM3      & 2           & 0.000040000 & 1          \\\\\n",
       "\t5702 & ZSWIM4      & 1           & 0.000062500 & 1          \\\\\n",
       "\t13495 & ZSWIM5      & 0           & 0.000083800 & 1          \\\\\n",
       "\t13496 & ZSWIM6      & 0           & 0.000079200 & 1          \\\\\n",
       "\t13497 & ZSWIM7      & 0           & 0.000028900 & 1          \\\\\n",
       "\t5703 & ZSWIM8      & 2           & 0.000087300 & 1          \\\\\n",
       "\t5704 & ZUFSP       & 1           & 0.000031500 & 1          \\\\\n",
       "\t13498 & ZW10        & 0           & 0.000043000 & 1          \\\\\n",
       "\t13499 & ZWILCH      & 0           & 0.000051800 & 1          \\\\\n",
       "\t5705 & ZWINT       & 1           & 0.000028200 & 1          \\\\\n",
       "\t13500 & ZXDA        & 0           & 0.000075100 & 1          \\\\\n",
       "\t13501 & ZXDB        & 0           & 0.000081400 & 1          \\\\\n",
       "\t13502 & ZXDC        & 0           & 0.000067000 & 1          \\\\\n",
       "\t13503 & ZYG11A      & 0           & 0.000064300 & 1          \\\\\n",
       "\t13504 & ZYG11B      & 0           & 0.000116653 & 1          \\\\\n",
       "\t13505 & ZYX         & 0           & 0.000035900 & 1          \\\\\n",
       "\t5706 & ZZEF1       & 5           & 0.000164619 & 1          \\\\\n",
       "\t13506 & ZZZ3        & 0           & 0.000068300 & 1          \\\\\n",
       "\\end{tabular}\n"
      ],
      "text/markdown": [
       "\n",
       "| <!--/--> | gene | variant_count | length_proportion | cluster.test.result | \n",
       "|---|---|---|---|---|---|---|---|---|---|---|---|---|---|---|---|---|---|---|---|---|---|---|---|---|---|---|---|---|---|---|---|---|---|---|---|---|---|---|---|---|---|---|---|---|---|---|---|---|---|---|---|---|---|---|---|---|---|---|---|---|\n",
       "| 3370 | OBSCN        | 21           | 0.000387125  | 8.372589e-08 | \n",
       "| 3272 | NOTCH1       | 11           | 0.000134817  | 4.622681e-05 | \n",
       "| 4524 | SLC22A10     |  6           | 0.000032100  | 2.575925e-04 | \n",
       "| 3118 | MYOM2        |  8           | 0.000071900  | 2.591620e-04 | \n",
       "| 3439 | OR4D9        |  4           | 0.000013600  | 2.458870e-03 | \n",
       "| 2527 | KLC3         |  5           | 0.000028800  | 3.680924e-03 | \n",
       "| 5011 | TJP3         |  6           | 0.000048100  | 3.892065e-03 | \n",
       "| 873 | CDH23        |  9           | 0.000144621  | 9.554264e-03 | \n",
       "| 2785 | LSP1         |  2           | 0.000001930  | 1.227944e-02 | \n",
       "| 730 | CAPN9        |  5           | 0.000035600  | 1.246807e-02 | \n",
       "| 4458 | SH3RF3       |  5           | 0.000045200  | 4.797339e-02 | \n",
       "| 5243 | TTLL4        |  6           | 0.000071400  | 5.113539e-02 | \n",
       "| 2197 | HOXD12       |  4           | 0.000026000  | 5.616052e-02 | \n",
       "| 1380 | DNAH7        |  9           | 0.000178019  | 5.822528e-02 | \n",
       "| 3753 | PLA2G4B      |  5           | 0.000048200  | 6.835042e-02 | \n",
       "| 3776 | PLD4         |  4           | 0.000028800  | 9.024192e-02 | \n",
       "| 1447 | DYNC2H1      |  9           | 0.000196212  | 1.296934e-01 | \n",
       "| 4259 | RPL3L        |  4           | 0.000031400  | 1.333864e-01 | \n",
       "| 4400 | SEMA4B       |  5           | 0.000054800  | 1.358878e-01 | \n",
       "| 3699 | PHF3         |  7           | 0.000118646  | 1.453259e-01 | \n",
       "| 2358 | ITFG3        |  4           | 0.000032200  | 1.491133e-01 | \n",
       "| 3432 | OR2Z1        |  3           | 0.000015200  | 1.577791e-01 | \n",
       "| 1765 | FER1L6       |  6           | 0.000086800  | 1.686441e-01 | \n",
       "| 2587 | KRT75        |  4           | 0.000033400  | 1.749619e-01 | \n",
       "| 3454 | OR51Q1       |  3           | 0.000015800  | 1.810174e-01 | \n",
       "| 1746 | FBXW5        |  4           | 0.000034400  | 1.985970e-01 | \n",
       "| 4426 | SERPIND1     |  4           | 0.000035100  | 2.162743e-01 | \n",
       "| 1403 | DOCK6        |  6           | 0.000091100  | 2.222343e-01 | \n",
       "| 881 | CDK11A       |  4           | 0.000038000  | 2.991085e-01 | \n",
       "| 2763 | LRRC47       |  4           | 0.000038100  | 3.022260e-01 | \n",
       "| ⋮ | ⋮ | ⋮ | ⋮ | ⋮ | \n",
       "| 13485 | ZSCAN29     | 0           | 0.000080700 | 1           | \n",
       "| 13486 | ZSCAN30     | 0           | 0.000062300 | 1           | \n",
       "| 13487 | ZSCAN31     | 0           | 0.000051200 | 1           | \n",
       "| 5699 | ZSCAN32     | 1           | 0.000045700 | 1           | \n",
       "| 13488 | ZSCAN4      | 0           | 0.000032400 | 1           | \n",
       "| 13489 | ZSCAN5A     | 0           | 0.000035300 | 1           | \n",
       "| 13490 | ZSCAN5B     | 0           | 0.000029700 | 1           | \n",
       "| 13491 | ZSCAN5C     | 0           | 0.000027200 | 1           | \n",
       "| 13492 | ZSCAN5D     | 0           | 0.000021500 | 1           | \n",
       "| 5700 | ZSCAN9      | 1           | 0.000029700 | 1           | \n",
       "| 13493 | ZSWIM1      | 0           | 0.000040000 | 1           | \n",
       "| 13494 | ZSWIM2      | 0           | 0.000030100 | 1           | \n",
       "| 5701 | ZSWIM3      | 2           | 0.000040000 | 1           | \n",
       "| 5702 | ZSWIM4      | 1           | 0.000062500 | 1           | \n",
       "| 13495 | ZSWIM5      | 0           | 0.000083800 | 1           | \n",
       "| 13496 | ZSWIM6      | 0           | 0.000079200 | 1           | \n",
       "| 13497 | ZSWIM7      | 0           | 0.000028900 | 1           | \n",
       "| 5703 | ZSWIM8      | 2           | 0.000087300 | 1           | \n",
       "| 5704 | ZUFSP       | 1           | 0.000031500 | 1           | \n",
       "| 13498 | ZW10        | 0           | 0.000043000 | 1           | \n",
       "| 13499 | ZWILCH      | 0           | 0.000051800 | 1           | \n",
       "| 5705 | ZWINT       | 1           | 0.000028200 | 1           | \n",
       "| 13500 | ZXDA        | 0           | 0.000075100 | 1           | \n",
       "| 13501 | ZXDB        | 0           | 0.000081400 | 1           | \n",
       "| 13502 | ZXDC        | 0           | 0.000067000 | 1           | \n",
       "| 13503 | ZYG11A      | 0           | 0.000064300 | 1           | \n",
       "| 13504 | ZYG11B      | 0           | 0.000116653 | 1           | \n",
       "| 13505 | ZYX         | 0           | 0.000035900 | 1           | \n",
       "| 5706 | ZZEF1       | 5           | 0.000164619 | 1           | \n",
       "| 13506 | ZZZ3        | 0           | 0.000068300 | 1           | \n",
       "\n",
       "\n"
      ],
      "text/plain": [
       "      gene     variant_count length_proportion cluster.test.result\n",
       "3370  OBSCN    21            0.000387125       8.372589e-08       \n",
       "3272  NOTCH1   11            0.000134817       4.622681e-05       \n",
       "4524  SLC22A10  6            0.000032100       2.575925e-04       \n",
       "3118  MYOM2     8            0.000071900       2.591620e-04       \n",
       "3439  OR4D9     4            0.000013600       2.458870e-03       \n",
       "2527  KLC3      5            0.000028800       3.680924e-03       \n",
       "5011  TJP3      6            0.000048100       3.892065e-03       \n",
       "873   CDH23     9            0.000144621       9.554264e-03       \n",
       "2785  LSP1      2            0.000001930       1.227944e-02       \n",
       "730   CAPN9     5            0.000035600       1.246807e-02       \n",
       "4458  SH3RF3    5            0.000045200       4.797339e-02       \n",
       "5243  TTLL4     6            0.000071400       5.113539e-02       \n",
       "2197  HOXD12    4            0.000026000       5.616052e-02       \n",
       "1380  DNAH7     9            0.000178019       5.822528e-02       \n",
       "3753  PLA2G4B   5            0.000048200       6.835042e-02       \n",
       "3776  PLD4      4            0.000028800       9.024192e-02       \n",
       "1447  DYNC2H1   9            0.000196212       1.296934e-01       \n",
       "4259  RPL3L     4            0.000031400       1.333864e-01       \n",
       "4400  SEMA4B    5            0.000054800       1.358878e-01       \n",
       "3699  PHF3      7            0.000118646       1.453259e-01       \n",
       "2358  ITFG3     4            0.000032200       1.491133e-01       \n",
       "3432  OR2Z1     3            0.000015200       1.577791e-01       \n",
       "1765  FER1L6    6            0.000086800       1.686441e-01       \n",
       "2587  KRT75     4            0.000033400       1.749619e-01       \n",
       "3454  OR51Q1    3            0.000015800       1.810174e-01       \n",
       "1746  FBXW5     4            0.000034400       1.985970e-01       \n",
       "4426  SERPIND1  4            0.000035100       2.162743e-01       \n",
       "1403  DOCK6     6            0.000091100       2.222343e-01       \n",
       "881   CDK11A    4            0.000038000       2.991085e-01       \n",
       "2763  LRRC47    4            0.000038100       3.022260e-01       \n",
       "⋮     ⋮        ⋮             ⋮                 ⋮                  \n",
       "13485 ZSCAN29  0             0.000080700       1                  \n",
       "13486 ZSCAN30  0             0.000062300       1                  \n",
       "13487 ZSCAN31  0             0.000051200       1                  \n",
       "5699  ZSCAN32  1             0.000045700       1                  \n",
       "13488 ZSCAN4   0             0.000032400       1                  \n",
       "13489 ZSCAN5A  0             0.000035300       1                  \n",
       "13490 ZSCAN5B  0             0.000029700       1                  \n",
       "13491 ZSCAN5C  0             0.000027200       1                  \n",
       "13492 ZSCAN5D  0             0.000021500       1                  \n",
       "5700  ZSCAN9   1             0.000029700       1                  \n",
       "13493 ZSWIM1   0             0.000040000       1                  \n",
       "13494 ZSWIM2   0             0.000030100       1                  \n",
       "5701  ZSWIM3   2             0.000040000       1                  \n",
       "5702  ZSWIM4   1             0.000062500       1                  \n",
       "13495 ZSWIM5   0             0.000083800       1                  \n",
       "13496 ZSWIM6   0             0.000079200       1                  \n",
       "13497 ZSWIM7   0             0.000028900       1                  \n",
       "5703  ZSWIM8   2             0.000087300       1                  \n",
       "5704  ZUFSP    1             0.000031500       1                  \n",
       "13498 ZW10     0             0.000043000       1                  \n",
       "13499 ZWILCH   0             0.000051800       1                  \n",
       "5705  ZWINT    1             0.000028200       1                  \n",
       "13500 ZXDA     0             0.000075100       1                  \n",
       "13501 ZXDB     0             0.000081400       1                  \n",
       "13502 ZXDC     0             0.000067000       1                  \n",
       "13503 ZYG11A   0             0.000064300       1                  \n",
       "13504 ZYG11B   0             0.000116653       1                  \n",
       "13505 ZYX      0             0.000035900       1                  \n",
       "5706  ZZEF1    5             0.000164619       1                  \n",
       "13506 ZZZ3     0             0.000068300       1                  "
      ]
     },
     "metadata": {},
     "output_type": "display_data"
    }
   ],
   "source": [
    "newdata <- data.frame(variants_per_CDS_withsizes, cluster.test.result = Cluster.Test(variants_per_CDS_withsizes$variant_count,variants_per_CDS_withsizes$length_proportion))\n",
    "newdata[order(newdata$cluster.test.result),]"
   ]
  }
 ],
 "metadata": {
  "kernelspec": {
   "display_name": "R",
   "language": "R",
   "name": "ir"
  },
  "language_info": {
   "codemirror_mode": "r",
   "file_extension": ".r",
   "mimetype": "text/x-r-source",
   "name": "R",
   "pygments_lexer": "r",
   "version": "3.4.4"
  }
 },
 "nbformat": 4,
 "nbformat_minor": 2
}
